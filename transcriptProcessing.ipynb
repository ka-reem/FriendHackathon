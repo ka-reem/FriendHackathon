{
 "cells": [
  {
   "cell_type": "code",
   "execution_count": 5,
   "metadata": {},
   "outputs": [
    {
     "name": "stdout",
     "output_type": "stream",
     "text": [
      "Collecting package metadata (current_repodata.json): done\n",
      "Solving environment: done\n",
      "\n",
      "\n",
      "==> WARNING: A newer version of conda exists. <==\n",
      "  current version: 23.3.1\n",
      "  latest version: 24.7.1\n",
      "\n",
      "Please update conda by running\n",
      "\n",
      "    $ conda update -n base -c defaults conda\n",
      "\n",
      "Or to minimize the number of packages updated during conda update use\n",
      "\n",
      "     conda install conda=24.7.1\n",
      "\n",
      "\n",
      "\n",
      "## Package Plan ##\n",
      "\n",
      "  environment location: /Users/kareemamin/anaconda3/envs/flask-env\n",
      "\n",
      "  added / updated specs:\n",
      "    - python=3.10\n",
      "\n",
      "\n",
      "The following packages will be downloaded:\n",
      "\n",
      "    package                    |            build\n",
      "    ---------------------------|-----------------\n",
      "    bzip2-1.0.8                |       h99b78c6_7         120 KB  conda-forge\n",
      "    ca-certificates-2024.7.4   |       hf0a4a13_0         151 KB  conda-forge\n",
      "    libsqlite-3.46.0           |       hfb93653_0         811 KB  conda-forge\n",
      "    libzlib-1.3.1              |       hfb2fe0b_1          46 KB  conda-forge\n",
      "    ncurses-6.5                |       hb89a1cb_0         776 KB  conda-forge\n",
      "    openssl-3.3.1              |       hfb2fe0b_2         2.8 MB  conda-forge\n",
      "    pip-24.2                   |     pyhd8ed1ab_0         1.2 MB  conda-forge\n",
      "    python-3.10.14             |h2469fbe_0_cpython        11.8 MB  conda-forge\n",
      "    setuptools-72.1.0          |     pyhd8ed1ab_0         1.4 MB  conda-forge\n",
      "    tk-8.6.13                  |       h5083fa2_1         3.0 MB  conda-forge\n",
      "    tzdata-2024a               |       h0c530f3_0         117 KB  conda-forge\n",
      "    wheel-0.44.0               |     pyhd8ed1ab_0          57 KB  conda-forge\n",
      "    ------------------------------------------------------------\n",
      "                                           Total:        22.1 MB\n",
      "\n",
      "The following NEW packages will be INSTALLED:\n",
      "\n",
      "  bzip2              conda-forge/osx-arm64::bzip2-1.0.8-h99b78c6_7 \n",
      "  ca-certificates    conda-forge/osx-arm64::ca-certificates-2024.7.4-hf0a4a13_0 \n",
      "  libffi             conda-forge/osx-arm64::libffi-3.4.2-h3422bc3_5 \n",
      "  libsqlite          conda-forge/osx-arm64::libsqlite-3.46.0-hfb93653_0 \n",
      "  libzlib            conda-forge/osx-arm64::libzlib-1.3.1-hfb2fe0b_1 \n",
      "  ncurses            conda-forge/osx-arm64::ncurses-6.5-hb89a1cb_0 \n",
      "  openssl            conda-forge/osx-arm64::openssl-3.3.1-hfb2fe0b_2 \n",
      "  pip                conda-forge/noarch::pip-24.2-pyhd8ed1ab_0 \n",
      "  python             conda-forge/osx-arm64::python-3.10.14-h2469fbe_0_cpython \n",
      "  readline           conda-forge/osx-arm64::readline-8.2-h92ec313_1 \n",
      "  setuptools         conda-forge/noarch::setuptools-72.1.0-pyhd8ed1ab_0 \n",
      "  tk                 conda-forge/osx-arm64::tk-8.6.13-h5083fa2_1 \n",
      "  tzdata             conda-forge/noarch::tzdata-2024a-h0c530f3_0 \n",
      "  wheel              conda-forge/noarch::wheel-0.44.0-pyhd8ed1ab_0 \n",
      "  xz                 conda-forge/osx-arm64::xz-5.2.6-h57fd34a_0 \n",
      "\n",
      "\n",
      "Proceed ([y]/n)? ^C\n",
      "\n",
      "CondaSystemExit: \n",
      "Operation aborted.  Exiting.\n",
      "\n",
      "\n",
      "Note: you may need to restart the kernel to use updated packages.\n"
     ]
    }
   ],
   "source": [
    "conda create -n flask-env python=3.10"
   ]
  },
  {
   "cell_type": "code",
   "execution_count": 9,
   "metadata": {},
   "outputs": [
    {
     "name": "stdout",
     "output_type": "stream",
     "text": [
      " * Serving Flask app '__main__'\n",
      " * Debug mode: off\n"
     ]
    },
    {
     "name": "stderr",
     "output_type": "stream",
     "text": [
      "WARNING: This is a development server. Do not use it in a production deployment. Use a production WSGI server instead.\n",
      " * Running on http://127.0.0.1:5000\n",
      "Press CTRL+C to quit\n",
      "127.0.0.1 - - [10/Aug/2024 15:28:37] \"GET / HTTP/1.1\" 404 -\n"
     ]
    }
   ],
   "source": [
    "from flask import Flask, request\n",
    "\n",
    "app = Flask(__name__)\n",
    "\n",
    "@app.route('/transcript-processing', methods=['POST'])\n",
    "def transcript_processing():\n",
    "    data = request.json\n",
    "    print(\"Received transcript:\", data)\n",
    "    return \"Transcript received\", 200\n",
    "\n",
    "if __name__ == '__main__':\n",
    "    app.run(port=5000)\n"
   ]
  }
 ],
 "metadata": {
  "kernelspec": {
   "display_name": "base",
   "language": "python",
   "name": "python3"
  },
  "language_info": {
   "codemirror_mode": {
    "name": "ipython",
    "version": 3
   },
   "file_extension": ".py",
   "mimetype": "text/x-python",
   "name": "python",
   "nbconvert_exporter": "python",
   "pygments_lexer": "ipython3",
   "version": "3.10.8"
  },
  "orig_nbformat": 4
 },
 "nbformat": 4,
 "nbformat_minor": 2
}
